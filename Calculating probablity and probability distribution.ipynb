{
 "cells": [
  {
   "cell_type": "markdown",
   "metadata": {},
   "source": [
    "Calculating probabilities\n",
    "calculate probabilities for coins that 1 coin out of 3 is heads."
   ]
  },
  {
   "cell_type": "code",
   "execution_count": 2,
   "metadata": {
    "collapsed": false
   },
   "outputs": [
    {
     "name": "stdout",
     "output_type": "stream",
     "text": [
      "0.375\n"
     ]
    }
   ],
   "source": [
    "# There are three combinations in which we can have one coin heads.\n",
    "# HTT, THT, TTH\n",
    "# Each combination's probability is (.5 * .5 * .5)\n",
    "combination_prob = float(.5 * .5 * .5) \n",
    "# The probability for one combination is in combination_prob -- multiply by the three possible combinations.\n",
    "coin_1_prob = 3 * float(combination_prob)\n",
    "print(coin_1_prob)"
   ]
  },
  {
   "cell_type": "code",
   "execution_count": 3,
   "metadata": {
    "collapsed": true
   },
   "outputs": [],
   "source": [
    "import pandas as pd"
   ]
  },
  {
   "cell_type": "code",
   "execution_count": 5,
   "metadata": {
    "collapsed": false
   },
   "outputs": [
    {
     "name": "stdout",
     "output_type": "stream",
     "text": [
      "0.865937072503\n",
      "0.618331053352\n"
     ]
    }
   ],
   "source": [
    "bikes = pd.read_csv(\"bike_rental_day.csv\")\n",
    "\n",
    "# Find the number of days the bikes rented exceeded the threshold.\n",
    "days_over_threshold = bikes[bikes[\"cnt\"] > 2000].shape[0]\n",
    "# Find the total number of days we have data for.\n",
    "total_days = bikes.shape[0]\n",
    "\n",
    "# Get the probability that more than 2000 bikes were rented for any given day.\n",
    "probability_over_2000 = float(days_over_threshold) / float(total_days)\n",
    "print(probability_over_2000)\n",
    "days_over_threshold_above_4000 = bikes[bikes[\"cnt\"] > 4000].shape[0]\n",
    "probability_over_4000=float(days_over_threshold_above_4000)/float(total_days)\n",
    "print(probability_over_4000)"
   ]
  },
  {
   "cell_type": "markdown",
   "metadata": {},
   "source": [
    "Up to or greater\n",
    "\n",
    "Let's say we flip three coins, and we want to know the probability of getting 2 or more heads. In order to do this, we'd need to add the probability of getting exactly 2 heads with the probability of getting exactly 3 heads. The probability that any single coin will be heads is .5 (the probability that the coin will be tails is the same, .5).\n",
    "\n",
    "The probability of 3 heads is easy to calculate -- this can only happen in one situation, where all three coins are heads, or .5 * .5 * .5, which equals .125.\n",
    "\n",
    "The probability of 2 heads is a little trickier -- there are three different combinations that the three coins can configure themselves in to end up with 2 heads. We show this in the table below, using H for heads, and T for tails.\n",
    "\n",
    "Coin 1    Coin 2    Coin 3\n",
    "\n",
    "H         H         T\n",
    "\n",
    "T         H         H\n",
    "\n",
    "H         T         H\n",
    "\n",
    "Each one of these has a probability of .5 * .5 * .5, so we just multiply 3 * .125 to get .375, the probability that we'll get 2 heads.\n",
    "\n",
    "We then just have to add up the probability of getting 2 heads to the probability of getting 3 heads to get .5, the probability of getting 2 or more heads when we flip 3 coins."
   ]
  },
  {
   "cell_type": "markdown",
   "metadata": {},
   "source": [
    "Calculating probabilities\n",
    "\n",
    "Now that we know how to calculate probabilities for coins, let's calculate the probability that 1 coin out of 3 is heads."
   ]
  },
  {
   "cell_type": "code",
   "execution_count": 7,
   "metadata": {
    "collapsed": false
   },
   "outputs": [
    {
     "name": "stdout",
     "output_type": "stream",
     "text": [
      "0.375\n"
     ]
    }
   ],
   "source": [
    "# There are three combinations in which we can have one coin heads.\n",
    "# HTT, THT, TTH\n",
    "# Each combination's probability is (.5 * .5 * .5)\n",
    "combination_prob = float(.5 * .5 * .5) \n",
    "# The probability for one combination is in combination_prob -- multiply by the three possible combinations.\n",
    "coin_1_prob = 3 * float(combination_prob)\n",
    "print(coin_1_prob)"
   ]
  },
  {
   "cell_type": "markdown",
   "metadata": {},
   "source": [
    "Number of combinations\n",
    "\n",
    "What we found in the last screen was that there were exactly 3 combinations of coins to get 2 out of the 3 coins to be heads. There was exactly 1 combination to get all three coins to be heads.\n",
    "\n",
    "Let's scale this example up a little bit. Let's say that we live in Los Angeles, CA, and the chance of any single day being sunny is .7. The chance of a day not being sunny is .3.\n",
    "\n",
    "If we have a sample of 5 days, and we want to find the chance that all 5 of them will be sunny, there's only one combination that allows this to happen -- the sunny outcome has to occur on all 5 days:\n",
    "\n",
    "Day 1    Day 2    Day 3    Day 4    Day 5\n",
    "\n",
    "S        S        S        S        S\n",
    "\n",
    "If we want to find the probability that only 4 days will be sunny, there are 5 possible combinations.\n",
    "\n",
    "Day 1    Day 2    Day 3    Day 4    Day 5\n",
    "\n",
    "S        S        S        S        N\n",
    "\n",
    "S        S        S        N        S\n",
    "\n",
    "S        S        N        S        S\n",
    "\n",
    "S        N        S        S        S\n",
    "\n",
    "N        S        S        S        S\n",
    "\n",
    "You may notice a pattern here. The most extreme cases -- a given outcome happening all the time or none of the time, can only occur in one combination. The next step lower, a given outcome happening every time except once, or a given outcome only happening once, can happen in as many combinations as there are total events."
   ]
  },
  {
   "cell_type": "markdown",
   "metadata": {},
   "source": [
    "Number of combinations formula\n",
    "\n",
    "In fact, there's an easily quantifiable pattern with the number of combinations. We can calculate the number of combinations in which an outcome can occur k times in a set of events with a formula:\n",
    "\n",
    "In this formula, is the total number of events we have, and is the target number of times we want our desired outcome to occur. So if we wanted to find the number of combinations in which 4 out of 5 days can be sunny, we'd set to 5, and to 4. The symbol means factorial. A factorial means \"multiply every number from 1 to this number together\". So is 1*2*3*4, which is 24.\n",
    "\n",
    "Plugging 4 and 5 into this formula gives us:\n",
    "\n",
    "This matches our intuitive answer that we got earlier!"
   ]
  },
  {
   "cell_type": "markdown",
   "metadata": {},
   "source": [
    "Finding the number of combinations\n",
    "\n",
    "We can calculate probabilities greater than or equal to a threshold with our bike sharing data. We found that the probability of having more riders than 4000 is about .6. We can use this to find the probability that in 10 days, 7 or more days have more than 4000 riders.\n",
    "\n",
    "But first, let's find the number of combinations in which 7 days out of 10 have more than 4000 rentals. We can repeat this process for 8 and 9 days.\n",
    "Instructions\n",
    "\n",
    "    Find the number of combinations where 8 days out of 10 have more than 4000 rentals. Assign the result to combinations_8.\n",
    "\n",
    "    Find the number of combinations where 9 days out of 10 have more than 4000 rentals. Assign the result to combinations_9"
   ]
  },
  {
   "cell_type": "code",
   "execution_count": 8,
   "metadata": {
    "collapsed": true
   },
   "outputs": [],
   "source": [
    "import math\n",
    "def find_outcome_combinations(N, k):\n",
    "    # Calculate the numerator of our formula.\n",
    "    numerator = math.factorial(N)\n",
    "    # Calculate the denominator.\n",
    "    denominator = math.factorial(k) * math.factorial(N - k)\n",
    "    # Divide them to get the final value.\n",
    "    return numerator / denominator\n",
    "combinations_7 = find_outcome_combinations(10, 7)\n",
    "combinations_8 = find_outcome_combinations(10, 8)\n",
    "combinations_9 = find_outcome_combinations(10, 9)"
   ]
  },
  {
   "cell_type": "markdown",
   "metadata": {},
   "source": [
    "Find the probability of a single combination for finding 3 days out of 5 are sunny.\n",
    "\n",
    "    The combination is Sunny, Sunny, Sunny, Not Sunny, Not Sunny.\n",
    "    Assign the result to prob_combination_3"
   ]
  },
  {
   "cell_type": "code",
   "execution_count": 9,
   "metadata": {
    "collapsed": true
   },
   "outputs": [],
   "source": [
    "prob_combination_3 = None\n",
    "prob_combination_3 = float(.7 * .7 * .7 * .3 * .3)"
   ]
  },
  {
   "cell_type": "markdown",
   "metadata": {},
   "source": [
    "\n",
    "\n",
    "    Write a function to find the probability of a single combination occurring.\n",
    "\n",
    "    Use the function to calculate the probability of 8 days out of 10 having more than 4000 riders.\n",
    "        Assign the result to prob_8.\n",
    "\n",
    "    Use the function to calculate the probability of 9 days out of 10 having more than 4000 riders.\n",
    "        Assign the result to prob_9.\n",
    "\n",
    "    Use the function to calculate the probability of 10 days out of 10 having more than 4000 riders.\n",
    "        Assign the result to prob_10.\n"
   ]
  },
  {
   "cell_type": "code",
   "execution_count": 11,
   "metadata": {
    "collapsed": false
   },
   "outputs": [
    {
     "ename": "NameError",
     "evalue": "name 'p' is not defined",
     "output_type": "error",
     "traceback": [
      "\u001b[0;31m---------------------------------------------------------------------------\u001b[0m",
      "\u001b[0;31mNameError\u001b[0m                                 Traceback (most recent call last)",
      "\u001b[0;32m<ipython-input-11-cb5d24d8b0f3>\u001b[0m in \u001b[0;36m<module>\u001b[0;34m()\u001b[0m\n\u001b[1;32m      7\u001b[0m     \u001b[1;31m# Multiply the terms out.\u001b[0m\u001b[1;33m\u001b[0m\u001b[1;33m\u001b[0m\u001b[0m\n\u001b[1;32m      8\u001b[0m     \u001b[1;32mreturn\u001b[0m \u001b[0mterm_1\u001b[0m \u001b[1;33m*\u001b[0m \u001b[0mterm_2\u001b[0m\u001b[1;33m\u001b[0m\u001b[0m\n\u001b[0;32m----> 9\u001b[0;31m \u001b[0mprob_8\u001b[0m \u001b[1;33m=\u001b[0m \u001b[0mfind_outcome_combinations\u001b[0m\u001b[1;33m(\u001b[0m\u001b[1;36m10\u001b[0m\u001b[1;33m,\u001b[0m \u001b[1;36m8\u001b[0m\u001b[1;33m)\u001b[0m \u001b[1;33m*\u001b[0m \u001b[0mfind_combination_probability\u001b[0m\u001b[1;33m(\u001b[0m\u001b[1;36m10\u001b[0m\u001b[1;33m,\u001b[0m \u001b[1;36m8\u001b[0m\u001b[1;33m,\u001b[0m \u001b[0mp\u001b[0m\u001b[1;33m,\u001b[0m \u001b[0mq\u001b[0m\u001b[1;33m)\u001b[0m\u001b[1;33m\u001b[0m\u001b[0m\n\u001b[0m\u001b[1;32m     10\u001b[0m \u001b[0mprob_9\u001b[0m \u001b[1;33m=\u001b[0m \u001b[0mfind_outcome_combinations\u001b[0m\u001b[1;33m(\u001b[0m\u001b[1;36m10\u001b[0m\u001b[1;33m,\u001b[0m \u001b[1;36m9\u001b[0m\u001b[1;33m)\u001b[0m \u001b[1;33m*\u001b[0m \u001b[0mfind_combination_probability\u001b[0m\u001b[1;33m(\u001b[0m\u001b[1;36m10\u001b[0m\u001b[1;33m,\u001b[0m \u001b[1;36m9\u001b[0m\u001b[1;33m,\u001b[0m \u001b[0mp\u001b[0m\u001b[1;33m,\u001b[0m \u001b[0mq\u001b[0m\u001b[1;33m)\u001b[0m\u001b[1;33m\u001b[0m\u001b[0m\n\u001b[1;32m     11\u001b[0m \u001b[0mprob_10\u001b[0m \u001b[1;33m=\u001b[0m \u001b[0mfind_outcome_combinations\u001b[0m\u001b[1;33m(\u001b[0m\u001b[1;36m10\u001b[0m\u001b[1;33m,\u001b[0m \u001b[1;36m10\u001b[0m\u001b[1;33m)\u001b[0m \u001b[1;33m*\u001b[0m \u001b[0mfind_combination_probability\u001b[0m\u001b[1;33m(\u001b[0m\u001b[1;36m10\u001b[0m\u001b[1;33m,\u001b[0m \u001b[1;36m10\u001b[0m\u001b[1;33m,\u001b[0m \u001b[0mp\u001b[0m\u001b[1;33m,\u001b[0m \u001b[0mq\u001b[0m\u001b[1;33m)\u001b[0m\u001b[1;33m\u001b[0m\u001b[0m\n",
      "\u001b[0;31mNameError\u001b[0m: name 'p' is not defined"
     ]
    }
   ],
   "source": [
    "q = .4\n",
    "def find_combination_probability(N, k, p, q):\n",
    "    # Take p to the power k, and get the first term.\n",
    "    term_1 = p ** k\n",
    "    # Take q to the power N-k, and get the second term.\n",
    "    term_2 = q ** (N-k)\n",
    "    # Multiply the terms out.\n",
    "    return term_1 * term_2\n",
    "prob_8 = find_outcome_combinations(10, 8) * find_combination_probability(10, 8, p, q)\n",
    "prob_9 = find_outcome_combinations(10, 9) * find_combination_probability(10, 9, p, q)\n",
    "prob_10 = find_outcome_combinations(10, 10) * find_combination_probability(10, 10, p, q)"
   ]
  },
  {
   "cell_type": "markdown",
   "metadata": {},
   "source": [
    "Binomial distributions--probabilites are known as binomial -- there are two values, which add to 1 collectively. There's a 100% chance of one outcome or the other occurring. "
   ]
  },
  {
   "cell_type": "markdown",
   "metadata": {},
   "source": [
    "Find the probability of there being more than 5000 riders in a single day (using the cnt column). "
   ]
  },
  {
   "cell_type": "code",
   "execution_count": 12,
   "metadata": {
    "collapsed": false
   },
   "outputs": [
    {
     "name": "stdout",
     "output_type": "stream",
     "text": [
      "0.391244870041\n"
     ]
    }
   ],
   "source": [
    "no_of_rows=bikes.shape[0]\n",
    "no_of_rows_greater_than_5000=bikes[bikes['cnt']>5000].shape[0]\n",
    "prob_over_5000=float(no_of_rows_greater_than_5000)/float(no_of_rows)\n",
    "print(prob_over_5000)"
   ]
  },
  {
   "cell_type": "markdown",
   "metadata": {},
   "source": [
    "Computing the distribution\n",
    "\n",
    "We now know that the probability is about .39 that there are more than 5000 riders in a single day. In the last mission, we figured out how to find the probability of k outcomes out of N events occurring. We'll need to use this to build up a list of probabilities.\n",
    "\n",
    "The formula we used in the last mission was:\n",
    "\n",
    "Instructions\n",
    "\n",
    "    Using the knowledge from the last mission, create a function that can compute the probability of k outcomes out of N events occurring.\n",
    "\n",
    "    Use the function to find the probability of each number of outcomes in outcome_counts occurring.\n",
    "        An outcome is a day where there are more than 5000 riders, with \n",
    "\n",
    ".\n",
    "You should have a list with 31 items, where the first item is the probability of 0 days out of 30 with more than 5000 riders, the second is the probability of 1 day out of 30, and so on, up to 30 days out of 30.\n",
    "Assign the list to outcome_probs"
   ]
  },
  {
   "cell_type": "code",
   "execution_count": 14,
   "metadata": {
    "collapsed": false
   },
   "outputs": [
    {
     "name": "stdout",
     "output_type": "stream",
     "text": [
      "[3.6299032553937196e-07, 6.962273457066644e-06, 6.454369901592111e-05, 0.0003851460072425456, 0.0016621260066655757, 0.0055258877729799805, 0.014720602673922079, 0.03226811265290648, 0.0593124939542154, 0.09269602880276286, 0.12445581572043082, 0.14467293034565729, 0.14645169588269408, 0.12964576356828655, 0.10065004829715925, 0.06864003293707908, 0.04114182302068777, 0.021661943461230015, 0.010002372800404023, 0.004038921890068234, 0.0014202438449502238, 0.00043239273968039596, 0.00011309228884338226, 2.5149532515420715e-05, 4.6897693829985355e-06, 7.196105151617426e-07, 8.847670268382081e-08, 8.380306993731663e-09, 5.740608420764663e-10, 2.5311896937232547e-11, 5.394338691541363e-13]\n"
     ]
    }
   ],
   "source": [
    "import math\n",
    "\n",
    "# Each item in this list represents one k, starting from 0 and going up to and including 30.\n",
    "outcome_counts = list(range(31))\n",
    "def find_probability(N, k, p, q):\n",
    "    # Find the probability of any single combination.\n",
    "    term_1 = p ** k\n",
    "    term_2 = q ** (N-k)\n",
    "    combo_prob = term_1 * term_2\n",
    "    \n",
    "    # Find the number of combinations.\n",
    "    numerator = math.factorial(N)\n",
    "    denominator = math.factorial(k) * math.factorial(N - k)\n",
    "    combo_count = numerator / denominator\n",
    "    return combo_prob * combo_count   \n",
    "outcome_probs = [find_probability(30, i, .39, .61) for i in outcome_counts]\n",
    "print(outcome_probs)"
   ]
  },
  {
   "cell_type": "code",
   "execution_count": 15,
   "metadata": {
    "collapsed": false
   },
   "outputs": [
    {
     "data": {
      "image/png": "[encoded data removed]",
      "text/plain": [
       "<matplotlib.figure.Figure at 0x880c5c0>"
      ]
     },
     "metadata": {},
     "output_type": "display_data"
    }
   ],
   "source": [
    "import matplotlib.pyplot as plt\n",
    "\n",
    "# The most likely number of days is between 10 and 15.\n",
    "plt.bar(outcome_counts, outcome_probs)\n",
    "plt.show()"
   ]
  },
  {
   "cell_type": "code",
   "execution_count": 16,
   "metadata": {
    "collapsed": false
   },
   "outputs": [
    {
     "data": {
      "image/png": "[encoded data removed]",
      "text/plain": [
       "<matplotlib.figure.Figure at 0x97ee710>"
      ]
     },
     "metadata": {},
     "output_type": "display_data"
    }
   ],
   "source": [
    "from scipy import linspace\n",
    "from scipy.stats import binom\n",
    "\n",
    "# Create a range of numbers from 0 to 30, with 31 elements (each number has one entry).\n",
    "outcome_counts = linspace(0,30,31)\n",
    "# Create the binomial probabilities, one for each entry in outcome_counts.\n",
    "outcome_probs = binom.pmf(outcome_counts,30,0.39)\n",
    "plt.bar(outcome_counts, outcome_probs)\n",
    "plt.show()"
   ]
  },
  {
   "cell_type": "markdown",
   "metadata": {},
   "source": [
    "Computing the mean of a probability distribution\n",
    "\n",
    "Sometimes we'll want to be able to tell people the expected value of a probability distribution -- the most likely result of a single sample that we look at.\n",
    "To compute this, we just multiply N by P"
   ]
  },
  {
   "cell_type": "code",
   "execution_count": 18,
   "metadata": {
    "collapsed": false
   },
   "outputs": [
    {
     "name": "stdout",
     "output_type": "stream",
     "text": [
      "11.7\n"
     ]
    }
   ],
   "source": [
    "dist_mean = None\n",
    "dist_mean = 30 * float(.39)\n",
    "print(dist_mean)"
   ]
  },
  {
   "cell_type": "markdown",
   "metadata": {},
   "source": [
    "Computing the standard deviation\n",
    "\n",
    "Just as we can compute the mean, we can also compute the standard deviation of a probability distribution. This helps us find how much the actual values will vary from the mean when we take a sample. "
   ]
  },
  {
   "cell_type": "code",
   "execution_count": 19,
   "metadata": {
    "collapsed": false
   },
   "outputs": [
    {
     "name": "stdout",
     "output_type": "stream",
     "text": [
      "2.67151642331\n"
     ]
    }
   ],
   "source": [
    "dist_stdev = None\n",
    "import math\n",
    "dist_stdev = math.sqrt(30 * .39 * .61)\n",
    "print(dist_stdev)"
   ]
  },
  {
   "cell_type": "code",
   "execution_count": 21,
   "metadata": {
    "collapsed": false
   },
   "outputs": [
    {
     "data": {
      "image/png": "[encoded data removed]",
      "text/plain": [
       "<matplotlib.figure.Figure at 0xc1dd0b8>"
      ]
     },
     "metadata": {},
     "output_type": "display_data"
    },
    {
     "data": {
      "image/png": "[encoded data removed]",
      "text/plain": [
       "<matplotlib.figure.Figure at 0xbee79b0>"
      ]
     },
     "metadata": {},
     "output_type": "display_data"
    }
   ],
   "source": [
    "outcome_counts = linspace(0,10,11)\n",
    "outcome_probs = binom.pmf(outcome_counts,10,0.39)\n",
    "plt.bar(outcome_counts, outcome_probs)\n",
    "plt.show()\n",
    "\n",
    "outcome_counts = linspace(0,100,101)\n",
    "outcome_probs = binom.pmf(outcome_counts,100,0.39)\n",
    "plt.bar(outcome_counts, outcome_probs)\n",
    "plt.show()"
   ]
  },
  {
   "cell_type": "markdown",
   "metadata": {},
   "source": [
    "Cumulative density function\n",
    "\n",
    "So far, we've looked at the probability that single values of k will occur. What we can look at instead is the probability that k or less will occur. These probabilities can be generated by the cumulative density function.\n",
    "\n",
    "Let's say we flip a coin 3 times --\n",
    ", and\n",
    "\n",
    ". When this happens, here are the probabilities:\n",
    "\n",
    "k    probability\n",
    "\n",
    "​\n",
    "\n",
    "0    .125\n",
    "\n",
    "1    .375\n",
    "\n",
    "2    .375\n",
    "\n",
    "3    .125\n",
    "\n",
    "A cumulative distribution would look like this:\n",
    "\n",
    "k    probability\n",
    "\n",
    "​\n",
    "\n",
    "0    .125\n",
    "\n",
    "1    .5\n",
    "\n",
    "2    .875\n",
    "\n",
    "3    1\n",
    "\n",
    "For each k, we fill in the probability that we'll see k outcomes or less. By the end of the distribution, we should get 1, because all the probabilities add to 1 (if we flip 3 coins, either 0, 1, 2, or 3 of them must be heads).\n",
    "\n"
   ]
  },
  {
   "cell_type": "code",
   "execution_count": 22,
   "metadata": {
    "collapsed": false,
    "scrolled": true
   },
   "outputs": [
    {
     "data": {
      "image/png": "[encoded data removed]",
      "text/plain": [
       "<matplotlib.figure.Figure at 0x978bc50>"
      ]
     },
     "metadata": {},
     "output_type": "display_data"
    }
   ],
   "source": [
    "outcome_counts = linspace(0,30,31)\n",
    "outcome_probs = binom.cdf(outcome_counts,30,0.39)\n",
    "plt.plot(outcome_counts, outcome_probs)\n",
    "plt.show()"
   ]
  },
  {
   "cell_type": "markdown",
   "metadata": {},
   "source": [
    "Faster way to calculate likelihood\n",
    "\n",
    "We don't want to have to use a z-score table every time we want to see how likely or unlikely a probability is. A much faster way is to use the cumulative distribution fuction (cdf) like we did earlier. This won't give us the exact same values as using z-scores, because the distribution isn't exactly normal, but it will give us the actual amount of probability in a distribution to the left of a given k."
   ]
  },
  {
   "cell_type": "code",
   "execution_count": 23,
   "metadata": {
    "collapsed": true
   },
   "outputs": [],
   "source": [
    "left_16 = None\n",
    "right_16 = None\n",
    "left_16 = binom.cdf(16,30,0.39)\n",
    "right_16 = 1 - left_16"
   ]
  }
 ],
 "metadata": {
  "anaconda-cloud": {},
  "kernelspec": {
   "display_name": "Python [default]",
   "language": "python",
   "name": "python2"
  },
  "language_info": {
   "codemirror_mode": {
    "name": "ipython",
    "version": 2
   },
   "file_extension": ".py",
   "mimetype": "text/x-python",
   "name": "python",
   "nbconvert_exporter": "python",
   "pygments_lexer": "ipython2",
   "version": "2.7.12"
  }
 },
 "nbformat": 4,
 "nbformat_minor": 1
}
